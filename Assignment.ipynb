{
 "cells": [
  {
   "cell_type": "markdown",
   "id": "6e8cd126-c042-4ac3-8f3c-83aadbbe8649",
   "metadata": {},
   "source": [
    "Q1. What is Lasso Regression, and how does it differ from other regression techniques?"
   ]
  },
  {
   "cell_type": "code",
   "execution_count": null,
   "id": "9d839a0a-6321-4733-b81b-fcdee67af630",
   "metadata": {},
   "outputs": [],
   "source": [
    "Ans = Lasso regression ia a regularization technique. It is used over regression method for a more accurate prediction.\n",
    "This model uses shrinkage. Shirnkage is where data values are shrunk towards a central point as the mean."
   ]
  },
  {
   "cell_type": "code",
   "execution_count": null,
   "id": "cbc876af-c548-4793-ab93-f2e469d4ca55",
   "metadata": {},
   "outputs": [],
   "source": []
  },
  {
   "cell_type": "code",
   "execution_count": null,
   "id": "7f282c81-bdf7-4c68-ae09-e8dee6adf672",
   "metadata": {},
   "outputs": [],
   "source": [
    "Q2. What is the main advantage of using Lasso Regression in feature selection?"
   ]
  },
  {
   "cell_type": "code",
   "execution_count": null,
   "id": "b4de1b97-9caa-49f4-8010-5c103e0ca17b",
   "metadata": {},
   "outputs": [],
   "source": [
    "Ans = The main advantage of a LASSO regression model is that it has the ability to set the coefficients for \n",
    "features it does not consider interesting to zero.\n",
    "This means that the model does some automatic feature selection\n",
    "to decide which features should and should not be included on its own."
   ]
  },
  {
   "cell_type": "code",
   "execution_count": null,
   "id": "106c1b26-f6b4-4baa-91bf-8a94380b9c28",
   "metadata": {},
   "outputs": [],
   "source": []
  },
  {
   "cell_type": "code",
   "execution_count": null,
   "id": "47225c14-efa3-466f-bdfe-58aa5a433b7d",
   "metadata": {},
   "outputs": [],
   "source": [
    "Q3. How do you interpret the coefficients of a Lasso Regression model?"
   ]
  },
  {
   "cell_type": "code",
   "execution_count": null,
   "id": "595769da-0bc2-446b-9b7a-e134515dae0b",
   "metadata": {},
   "outputs": [],
   "source": [
    "Ans = A positive coefficient indicates that as the value of the independent variable increases,\n",
    "the mean of the dependent variable also tends to increase.\n",
    "A negative coefficient suggests that as the independent variable increases,\n",
    "the dependent variable tends to decrease."
   ]
  },
  {
   "cell_type": "code",
   "execution_count": null,
   "id": "8fb971d0-ee23-4492-acba-f06b40fe49dc",
   "metadata": {},
   "outputs": [],
   "source": []
  },
  {
   "cell_type": "code",
   "execution_count": null,
   "id": "35a074ee-ccc7-47b0-a5fa-8b6b9935ee57",
   "metadata": {},
   "outputs": [],
   "source": [
    "Q4. What are the tuning parameters that can be adjusted in Lasso Regression, and how do they affect the\n",
    "model's performance?"
   ]
  },
  {
   "cell_type": "code",
   "execution_count": null,
   "id": "ce2c2209-f506-497f-8ff1-6a6ed6dcd202",
   "metadata": {},
   "outputs": [],
   "source": [
    "Ans = A tuning parameter (λ), sometimes called a penalty parameter,\n",
    "controls the strength of the penalty term in ridge regression and lasso regression.\n",
    "It is basically the amount of shrinkage, where data values are shrunk towards a central point, like the mean."
   ]
  },
  {
   "cell_type": "code",
   "execution_count": null,
   "id": "9573471d-7e1a-4001-9d7b-9ff7b7ed00a6",
   "metadata": {},
   "outputs": [],
   "source": []
  },
  {
   "cell_type": "code",
   "execution_count": null,
   "id": "68e9bc08-feae-4f21-91f1-71bfc9b81333",
   "metadata": {},
   "outputs": [],
   "source": [
    "Q5. Can Lasso Regression be used for non-linear regression problems? If yes, how?"
   ]
  },
  {
   "cell_type": "code",
   "execution_count": null,
   "id": "4d7ec595-e61b-4de1-8dab-fad2d404365d",
   "metadata": {},
   "outputs": [],
   "source": [
    "Ans = yes,\n",
    "but for an approximate solution in the LS sense since what is measured is y and not any of its possible\n",
    "Lasso regression is a regularization technique.\n",
    "It is used over regression methods for a more accurate prediction. \n",
    "This model uses shrinkage. Shrinkage is where data values are shrunk towards a central point as the mean."
   ]
  },
  {
   "cell_type": "code",
   "execution_count": null,
   "id": "7f3eb798-6197-42b3-9621-7431adc601e7",
   "metadata": {},
   "outputs": [],
   "source": []
  },
  {
   "cell_type": "code",
   "execution_count": null,
   "id": "7086d389-13b2-4630-9c6c-1ddef57d847f",
   "metadata": {},
   "outputs": [],
   "source": [
    "Q6. What is the difference between Ridge Regression and Lasso Regression?"
   ]
  },
  {
   "cell_type": "code",
   "execution_count": null,
   "id": "ddf86e27-58da-449b-a685-47f205eada61",
   "metadata": {},
   "outputs": [],
   "source": [
    "Ans = Similar to the lasso regression,\n",
    "ridge regression puts a similar constraint on the coefficients by introducing a penalty factor.\n",
    "However, while lasso regression takes the magnitude of the coefficients, \n",
    "ridge regression takes the square. Ridge regression is also referred to as L2 Regularization."
   ]
  },
  {
   "cell_type": "code",
   "execution_count": null,
   "id": "d7233d16-bd11-4084-93b5-5ebc466351fd",
   "metadata": {},
   "outputs": [],
   "source": []
  },
  {
   "cell_type": "code",
   "execution_count": null,
   "id": "27a9a6e6-14b0-4e58-9e56-0ff1d2957650",
   "metadata": {},
   "outputs": [],
   "source": [
    "Q7. Can Lasso Regression handle multicollinearity in the input features? If yes, how?"
   ]
  },
  {
   "cell_type": "code",
   "execution_count": null,
   "id": "dd9117f8-2719-45a1-945d-e5dd65d27be9",
   "metadata": {},
   "outputs": [],
   "source": [
    "Ans = Yes,\n",
    " because of LASSO built-in variable selection,\n",
    "it can handle some multicollinearity without sacrificing interpretability.\n",
    "If the collinearity is too high, however,\n",
    "LASSOs variable selection performance will start to suffer."
   ]
  },
  {
   "cell_type": "code",
   "execution_count": null,
   "id": "aa8ed441-1289-427e-b0fa-a2c61dfe2b6c",
   "metadata": {},
   "outputs": [],
   "source": []
  },
  {
   "cell_type": "code",
   "execution_count": null,
   "id": "3e47d438-ac2e-41bf-8c6f-d60bc7a108b4",
   "metadata": {},
   "outputs": [],
   "source": [
    "Q8. How do you choose the optimal value of the regularization parameter (lambda) in Lasso Regression?"
   ]
  },
  {
   "cell_type": "code",
   "execution_count": null,
   "id": "dd77a52a-780a-49da-a0d7-51c418af4c9a",
   "metadata": {},
   "outputs": [],
   "source": [
    "Ans = The best cross-validation score is obtained for the 0.4 value of lambda.\n",
    "This is your optimal value of lambda. \n",
    "This is how we choose the estimated best model with optimal hyper-parameter values. \n",
    "Use this same process with different types of algorithms like Ridge, LASSO, Elastic-Net, Random Forests, and Boosted trees."
   ]
  },
  {
   "cell_type": "code",
   "execution_count": null,
   "id": "58cf2e26-071e-4e42-9cd9-7a42fe4dd741",
   "metadata": {},
   "outputs": [],
   "source": []
  }
 ],
 "metadata": {
  "kernelspec": {
   "display_name": "Python 3 (ipykernel)",
   "language": "python",
   "name": "python3"
  },
  "language_info": {
   "codemirror_mode": {
    "name": "ipython",
    "version": 3
   },
   "file_extension": ".py",
   "mimetype": "text/x-python",
   "name": "python",
   "nbconvert_exporter": "python",
   "pygments_lexer": "ipython3",
   "version": "3.10.8"
  }
 },
 "nbformat": 4,
 "nbformat_minor": 5
}
